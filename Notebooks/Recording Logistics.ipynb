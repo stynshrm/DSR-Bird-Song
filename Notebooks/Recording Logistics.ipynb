{
 "cells": [
  {
   "cell_type": "markdown",
   "metadata": {},
   "source": [
    "## Birdclef 2017 & 2018 Dataset\n",
    "\n",
    "- 48,843 Recordings in total (36,496 Train, 12,347 Test) \n",
    "\n",
    "- 1500 Species\n",
    "\n",
    "- Least nr. of recordings for single species: 4\n",
    "\n",
    "- Maximum nr. of recordings for single species: 160\n",
    "\n",
    "Two new annotated sets: \n",
    "\n",
    "- Peru  soundscapes,  about  2  hours  (1:57:08) \n",
    "- Colombia soundscapes, about 4,5 hours (4:25:55),\n",
    "- Total: 6,5 h\n",
    "\n",
    "In  addition  to  these  newly  introduced  records,  the  test  set  still  contained  the 925  soundscapes introduced with BirdCLEF  2016 and 33,203 recordings from 2015.\n",
    "\n",
    "- Roughly 6 days of continuous audio"
   ]
  },
  {
   "cell_type": "code",
   "execution_count": 8,
   "metadata": {},
   "outputs": [
    {
     "data": {
      "text/plain": [
       "541800.0"
      ]
     },
     "execution_count": 8,
     "metadata": {},
     "output_type": "execute_result"
    }
   ],
   "source": [
    "# Seconds in Birdclef set\n",
    "hours_2017 = 6.5\n",
    "hours_2016 = 6 * 24\n",
    "seconds = (hours_2017 + hours_2016) * 60 * 60\n",
    "seconds"
   ]
  },
  {
   "cell_type": "code",
   "execution_count": 9,
   "metadata": {},
   "outputs": [
    {
     "data": {
      "text/plain": [
       "11.09268472452552"
      ]
     },
     "execution_count": 9,
     "metadata": {},
     "output_type": "execute_result"
    }
   ],
   "source": [
    "# Avg. seconds per recording\n",
    "total_recs = 48843\n",
    "avg_s_per_rec = seconds / total_recs\n",
    "avg_s_per_rec"
   ]
  },
  {
   "cell_type": "code",
   "execution_count": 12,
   "metadata": {},
   "outputs": [
    {
     "data": {
      "text/plain": [
       "361.2"
      ]
     },
     "execution_count": 12,
     "metadata": {},
     "output_type": "execute_result"
    }
   ],
   "source": [
    "# Avg. seconds per species\n",
    "nr_species = 1500\n",
    "avg_s_per_spec = seconds / nr_species\n",
    "avg_s_per_spec"
   ]
  },
  {
   "cell_type": "markdown",
   "metadata": {},
   "source": [
    "## Our Dataset\n",
    "\n",
    "\n",
    "- 324 species\n",
    "- min. nr. of seconds for single species: 1000\n",
    "- max. nr. of seconds for single species: 1500\n",
    "- Total seconds to train on after augmentation: 486000"
   ]
  },
  {
   "cell_type": "code",
   "execution_count": 13,
   "metadata": {},
   "outputs": [
    {
     "data": {
      "text/plain": [
       "486000"
      ]
     },
     "execution_count": 13,
     "metadata": {},
     "output_type": "execute_result"
    }
   ],
   "source": [
    "total_sec = 324 * 1500\n",
    "total_sec\n",
    "\n",
    "actual_sec = 170575"
   ]
  },
  {
   "cell_type": "code",
   "execution_count": 15,
   "metadata": {},
   "outputs": [
    {
     "data": {
      "text/plain": [
       "242998"
      ]
     },
     "execution_count": 15,
     "metadata": {},
     "output_type": "execute_result"
    }
   ],
   "source": [
    "window = 5\n",
    "stride = 2\n",
    "nr_of_slices = ((total_sec - window) // stride) + 1\n",
    "nr_of_slices"
   ]
  },
  {
   "cell_type": "code",
   "execution_count": null,
   "metadata": {},
   "outputs": [],
   "source": []
  }
 ],
 "metadata": {
  "kernelspec": {
   "display_name": "Python 3",
   "language": "python",
   "name": "python3"
  },
  "language_info": {
   "codemirror_mode": {
    "name": "ipython",
    "version": 3
   },
   "file_extension": ".py",
   "mimetype": "text/x-python",
   "name": "python",
   "nbconvert_exporter": "python",
   "pygments_lexer": "ipython3",
   "version": "3.7.2"
  }
 },
 "nbformat": 4,
 "nbformat_minor": 2
}
